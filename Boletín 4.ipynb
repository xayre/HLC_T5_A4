{
 "cells": [
  {
   "cell_type": "code",
   "execution_count": 5,
   "id": "1cc19115",
   "metadata": {},
   "outputs": [
    {
     "data": {
      "text/plain": [
       "120"
      ]
     },
     "execution_count": 5,
     "metadata": {},
     "output_type": "execute_result"
    }
   ],
   "source": [
    "#EJERCICIO 1\n",
    "def factorial_normal(n):\n",
    "    r = 1\n",
    "    i = 2\n",
    "    while i <= n:\n",
    "        r *= i\n",
    "        i += 1\n",
    "    return r\n",
    "\n",
    "factorial_normal(5)"
   ]
  },
  {
   "cell_type": "code",
   "execution_count": 1,
   "id": "1bea2e0f",
   "metadata": {},
   "outputs": [
    {
     "data": {
      "text/plain": [
       "8"
      ]
     },
     "execution_count": 1,
     "metadata": {},
     "output_type": "execute_result"
    }
   ],
   "source": [
    "#EJERCICIO 2\n",
    "def fibonacci(n):\n",
    "    if n == 0:\n",
    "        return 0\n",
    "    elif n == 1:\n",
    "        return 1\n",
    "    else:\n",
    "        return fibonacci(n-1) + fibonacci(n-2)\n",
    "fibonacci(6)"
   ]
  },
  {
   "cell_type": "code",
   "execution_count": 23,
   "id": "8f300ddc",
   "metadata": {},
   "outputs": [
    {
     "name": "stdout",
     "output_type": "stream",
     "text": [
      "8\n"
     ]
    }
   ],
   "source": [
    "#EJERCICIO 3\n",
    "def potenciaRecursiva(x, y):\n",
    "    if y == 0:\n",
    "        return 1\n",
    "\n",
    "    elif y >= 1:\n",
    "        return x * potenciaRecursiva(x, y - 1)\n",
    "\n",
    "d = potenciaRecursiva(2,3)\n",
    "print (d)"
   ]
  },
  {
   "cell_type": "code",
   "execution_count": 13,
   "id": "2859ed31",
   "metadata": {},
   "outputs": [
    {
     "name": "stdout",
     "output_type": "stream",
     "text": [
      "10\n"
     ]
    }
   ],
   "source": [
    "#EJERCICIO 4\n",
    "def suma(num):\n",
    "    if num < 10:\n",
    "        return num\n",
    "    else:\n",
    "        return num % 10 + suma(num // 10)\n",
    "\n",
    "num = 1234\n",
    "print(suma(num))"
   ]
  },
  {
   "cell_type": "code",
   "execution_count": 4,
   "id": "1d228bb8",
   "metadata": {},
   "outputs": [
    {
     "name": "stdout",
     "output_type": "stream",
     "text": [
      "4\n"
     ]
    }
   ],
   "source": [
    "#EJERCICIO 5\n",
    "def contar(n):\n",
    "    if n < 10:\n",
    "        return 1\n",
    "    return 1 + contar(n/10)\n",
    "\n",
    "print(contar(1234))\n",
    "\n"
   ]
  }
 ],
 "metadata": {
  "kernelspec": {
   "display_name": "Python 3",
   "language": "python",
   "name": "python3"
  },
  "language_info": {
   "codemirror_mode": {
    "name": "ipython",
    "version": 3
   },
   "file_extension": ".py",
   "mimetype": "text/x-python",
   "name": "python",
   "nbconvert_exporter": "python",
   "pygments_lexer": "ipython3",
   "version": "3.13.1"
  }
 },
 "nbformat": 4,
 "nbformat_minor": 5
}
